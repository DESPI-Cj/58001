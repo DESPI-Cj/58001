{
  "nbformat": 4,
  "nbformat_minor": 0,
  "metadata": {
    "colab": {
      "provenance": [],
      "authorship_tag": "ABX9TyMIoUXD39FlSI/xUoJhwTMm",
      "include_colab_link": true
    },
    "kernelspec": {
      "name": "python3",
      "display_name": "Python 3"
    },
    "language_info": {
      "name": "python"
    }
  },
  "cells": [
    {
      "cell_type": "markdown",
      "metadata": {
        "id": "view-in-github",
        "colab_type": "text"
      },
      "source": [
        "<a href=\"https://colab.research.google.com/github/DESPI-Cj/OOP-58001/blob/main/MidtermQuiz.ipynb\" target=\"_parent\"><img src=\"https://colab.research.google.com/assets/colab-badge.svg\" alt=\"Open In Colab\"/></a>"
      ]
    },
    {
      "cell_type": "code",
      "execution_count": 9,
      "metadata": {
        "colab": {
          "base_uri": "https://localhost:8080/"
        },
        "id": "0iiCASEPhJca",
        "outputId": "281029f8-da63-46f0-8e8c-6f594bf49727"
      },
      "outputs": [
        {
          "output_type": "stream",
          "name": "stdout",
          "text": [
            "Input value in meter:10\n",
            "Meter -> Centimeter : 1000\n",
            "Meter -> Kilometer : 10000\n",
            "Meter -> Inches : 393.7\n"
          ]
        }
      ],
      "source": [
        "#Create a class DistanceConversion with attribute distance\n",
        "#Create different methods to convert meter to centimeter, meter to kilometer, and meter to inch\n",
        "#Use mangling for encapsulation\n",
        "#The program will accept user input and by showing the three consecutive outputs\n",
        "# (meter to centimeter, meter to kilometer, and meter to inch)\n",
        "\n",
        "class DistanceConversion:\n",
        "    def __init__(self, distance):\n",
        "        self.distance = distance\n",
        "    \n",
        "    def m2cm(self):\n",
        "        return self.distance*100\n",
        "    def m2km(self):\n",
        "        return self.distance*1000\n",
        "    def m2in(self):\n",
        "        return self.distance*39.37        \n",
        "\n",
        "    def display(self):\n",
        "        print(\"Meter -> Centimeter :\" , self.m2cm())\n",
        "        print(\"Meter -> Kilometer :\" , self.m2km())\n",
        "        print(\"Meter -> Inches :\" , self.m2in())\n",
        "\n",
        "meter = DistanceConversion(int(input(\"Input value in meter:\")))\n",
        "meter.display()\n",
        "\n"
      ]
    }
  ]
}