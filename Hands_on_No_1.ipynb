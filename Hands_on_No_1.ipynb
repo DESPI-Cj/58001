{
  "nbformat": 4,
  "nbformat_minor": 0,
  "metadata": {
    "colab": {
      "provenance": [],
      "authorship_tag": "ABX9TyNrn2NW8zWp3lbU35Rm91wH",
      "include_colab_link": true
    },
    "kernelspec": {
      "name": "python3",
      "display_name": "Python 3"
    },
    "language_info": {
      "name": "python"
    }
  },
  "cells": [
    {
      "cell_type": "markdown",
      "metadata": {
        "id": "view-in-github",
        "colab_type": "text"
      },
      "source": [
        "<a href=\"https://colab.research.google.com/github/DESPI-Cj/OOP-58001/blob/main/Hands_on_No_1.ipynb\" target=\"_parent\"><img src=\"https://colab.research.google.com/assets/colab-badge.svg\" alt=\"Open In Colab\"/></a>"
      ]
    },
    {
      "cell_type": "code",
      "execution_count": null,
      "metadata": {
        "id": "m5R9ZJLhZJxN"
      },
      "outputs": [],
      "source": [
        "class RegularPolygon:\n",
        "  def __init__(self, side):\n",
        "    self.side = side\n",
        "class Square(RegularPolygon):\n",
        "  def area(self):\n",
        "    return self.side*self.side*0.433\n",
        "\n"
      ]
    },
    {
      "cell_type": "code",
      "source": [
        "class Person:\n",
        "  def __init__(self, name, pre, mid, fin):\n",
        "    self.__name = name\n",
        "    self.__pre = pre\n",
        "    self.__mid = mid\n",
        "    self.__fin = fin\n",
        "    global avg\n",
        "    avg = (self.__pre+self.__mid+self.__fin)/3\n",
        "\n",
        "  def Display(self):\n",
        "    print(\"Student Name:\", self.__name)\n",
        "    print(\"Term Grade:\", round(avg, 2))\n",
        "  \n",
        "\n",
        "class Student1(Person):\n",
        "  pass\n",
        "class Student2(Person):\n",
        "  pass\n",
        "class Student3(Person):\n",
        "  pass\n",
        "\n",
        "student1 = Student1(\"Despi\", 97, 93, 95)\n",
        "student1.Display()\n",
        "student2 = Student2(\"Valero\", 100, 92, 99)\n",
        "student2.Display()\n",
        "student3 = Student3(\"Guzman\", 75, 75, 80)\n",
        "student3.Display()"
      ],
      "metadata": {
        "colab": {
          "base_uri": "https://localhost:8080/"
        },
        "id": "lnMSr3_Hk2aR",
        "outputId": "e5d2cb34-c261-4d04-f494-041612d76cc8"
      },
      "execution_count": null,
      "outputs": [
        {
          "output_type": "stream",
          "name": "stdout",
          "text": [
            "Student Name: Despi\n",
            "Term Grade: 95.0\n",
            "Student Name: Valero\n",
            "Term Grade: 97.0\n",
            "Student Name: Guzman\n",
            "Term Grade: 76.67\n"
          ]
        }
      ]
    },
    {
      "cell_type": "code",
      "source": [
        "class Person:\n",
        "  def __init__(self, name, pre, mid, fin):\n",
        "    self.name = name\n",
        "    self.pre = pre\n",
        "    self.mid = mid\n",
        "    self.fin = fin\n",
        "   \n",
        "  def Grade(self):\n",
        "   return (self.pre + self.mid + self.fin)/3\n",
        "    \n",
        "  def Display(self):\n",
        "    print(\"Student Name:\", self.name)\n",
        "    print(\"Term Grade:\", self.Grade())\n",
        "\n",
        "class Student1(Person):\n",
        "  pass\n",
        "class Student2(Person):\n",
        "  pass\n",
        "class Student3(Person):\n",
        "  pass\n",
        "\n",
        "student1 = Student1(\"Despi\", 97, 93, 95)\n",
        "student1.Display()\n",
        "student2 = Student2(\"Valero\", 60, 75, 80)\n",
        "student2.Display()\n",
        "student3 = Student3(\"Guzman\", 75, 75, 80)\n",
        "student3.Display()\n",
        "\n"
      ],
      "metadata": {
        "colab": {
          "base_uri": "https://localhost:8080/"
        },
        "id": "vKHIZC4inuN2",
        "outputId": "678b6514-006d-4382-ddb9-f78e11143ccc"
      },
      "execution_count": null,
      "outputs": [
        {
          "output_type": "stream",
          "name": "stdout",
          "text": [
            "Student Name: Despi\n",
            "Term Grade: 95.0\n",
            "Student Name: Valero\n",
            "Term Grade: 71.66666666666667\n",
            "Student Name: Guzman\n",
            "Term Grade: 76.66666666666667\n"
          ]
        }
      ]
    }
  ]
}