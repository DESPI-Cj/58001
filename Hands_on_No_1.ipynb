{
  "nbformat": 4,
  "nbformat_minor": 0,
  "metadata": {
    "colab": {
      "provenance": [],
      "authorship_tag": "ABX9TyNzojpEsNIQ5uZSLzmgQVtW",
      "include_colab_link": true
    },
    "kernelspec": {
      "name": "python3",
      "display_name": "Python 3"
    },
    "language_info": {
      "name": "python"
    }
  },
  "cells": [
    {
      "cell_type": "markdown",
      "metadata": {
        "id": "view-in-github",
        "colab_type": "text"
      },
      "source": [
        "<a href=\"https://colab.research.google.com/github/DESPI-Cj/OOP-58001/blob/main/Hands_on_No_1.ipynb\" target=\"_parent\"><img src=\"https://colab.research.google.com/assets/colab-badge.svg\" alt=\"Open In Colab\"/></a>"
      ]
    },
    {
      "cell_type": "code",
      "execution_count": null,
      "metadata": {
        "id": "m5R9ZJLhZJxN"
      },
      "outputs": [],
      "source": [
        "class RegularPolygon:\n",
        "  def __init__(self, side):\n",
        "    self.side = side\n",
        "class Square(RegularPolygon):\n",
        "  def area(self):\n",
        "    return self.side*self.side*0.433\n",
        "\n"
      ]
    },
    {
      "cell_type": "markdown",
      "source": [
        "Without Input!"
      ],
      "metadata": {
        "id": "Lv9cGTjvgz_j"
      }
    },
    {
      "cell_type": "code",
      "source": [
        "class Person:\n",
        "  def __init__(self, studentname, pre, mid, fin):\n",
        "    self.__studentname = studentname\n",
        "    self.__pre = pre\n",
        "    self.__mid = mid\n",
        "    self.__fin = fin\n",
        "   \n",
        "  def Grade(self):\n",
        "   return (self.__pre + self.__mid + self.__fin)/3\n",
        "    \n",
        "  def Display(self):\n",
        "    print(\"Student Name:\", self.__studentname)\n",
        "    print(\"Term Grade:\", round(self.Grade(), 2))\n",
        "\n",
        "class Student1(Person):\n",
        "  pass\n",
        "class Student2(Person):\n",
        "  pass\n",
        "class Student3(Person):\n",
        "  pass\n",
        "\n",
        "student1 = Student1(\"Despi\", 97, 93, 95)\n",
        "student1.Display()\n",
        "student2 = Student2(\"Valero\", 60, 75, 80)\n",
        "student2.Display()\n",
        "student3 = Student3(\"Guzman\", 75, 75, 80)\n",
        "student3.Display()\n",
        "\n"
      ],
      "metadata": {
        "colab": {
          "base_uri": "https://localhost:8080/"
        },
        "id": "vKHIZC4inuN2",
        "outputId": "d9f99ad2-9f23-4fde-cc94-707db44f5de9"
      },
      "execution_count": 6,
      "outputs": [
        {
          "output_type": "stream",
          "name": "stdout",
          "text": [
            "Student Name: Despi\n",
            "Term Grade: 95.0\n",
            "Student Name: Valero\n",
            "Term Grade: 71.67\n",
            "Student Name: Guzman\n",
            "Term Grade: 76.67\n"
          ]
        }
      ]
    },
    {
      "cell_type": "markdown",
      "source": [
        "With Input!"
      ],
      "metadata": {
        "id": "45e-tjjZg2CL"
      }
    },
    {
      "cell_type": "code",
      "source": [
        "class Person:\n",
        "  def __init__(self, studentname, pre, mid, fin):\n",
        "    self.__studentname = studentname\n",
        "    self.__pre = pre \n",
        "    self.__mid = mid \n",
        "    self.__fin = fin \n",
        "   \n",
        "  def Grade(self):\n",
        "   return (self.__pre + self.__mid + self.__fin)/3\n",
        "    \n",
        "  def Display(self):\n",
        "    print(\"Student Name:\", self.__studentname)\n",
        "    print(\"Term Grade:\", round(self.Grade(), 2))\n",
        "\n",
        "class Student1(Person):\n",
        "  pass\n",
        "class Student2(Person):\n",
        "  pass\n",
        "class Student3(Person):\n",
        "  pass\n",
        "\n",
        "student1 = Student1(\"Despi\", int(input(\"Enter Prelim:\")), int(input(\"Enter Midterm: \")),  int(input(\"Enter Final\")) )\n",
        "student2 = Student2(\"Valero\", int(input(\"Enter Prelim:\")), int(input(\"Enter Midterm: \")),  int(input(\"Enter Final\")) )\n",
        "student3 = Student3(\"Guzman\", int(input(\"Enter Prelim:\")), int(input(\"Enter Midterm: \")),  int(input(\"Enter Final\")) )\n",
        "print('')\n",
        "student1.Display()\n",
        "student2.Display()\n",
        "student3.Display()"
      ],
      "metadata": {
        "colab": {
          "base_uri": "https://localhost:8080/"
        },
        "id": "clqLDlf7eFWb",
        "outputId": "60a57c4c-a554-4215-d7d9-9a4a0b1f9fb6"
      },
      "execution_count": 21,
      "outputs": [
        {
          "output_type": "stream",
          "name": "stdout",
          "text": [
            "Enter Prelim:7\n",
            "Enter Midterm: 7\n",
            "Enter Final7\n",
            "Enter Prelim:7\n",
            "Enter Midterm: 7\n",
            "Enter Final7\n",
            "Enter Prelim:7\n",
            "Enter Midterm: 7\n",
            "Enter Final7\n",
            "\n",
            "Student Name: Despi\n",
            "Term Grade: 7.0\n",
            "Student Name: Valero\n",
            "Term Grade: 7.0\n",
            "Student Name: Guzman\n",
            "Term Grade: 7.0\n"
          ]
        }
      ]
    }
  ]
}