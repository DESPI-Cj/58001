{
  "nbformat": 4,
  "nbformat_minor": 0,
  "metadata": {
    "colab": {
      "provenance": [],
      "authorship_tag": "ABX9TyM9zdBO1fk3f3QWVH0ml+fg",
      "include_colab_link": true
    },
    "kernelspec": {
      "name": "python3",
      "display_name": "Python 3"
    },
    "language_info": {
      "name": "python"
    }
  },
  "cells": [
    {
      "cell_type": "markdown",
      "metadata": {
        "id": "view-in-github",
        "colab_type": "text"
      },
      "source": [
        "<a href=\"https://colab.research.google.com/github/DESPI-Cj/OOP-58001/blob/main/Operations_and_Expressions_in_Python.ipynb\" target=\"_parent\"><img src=\"https://colab.research.google.com/assets/colab-badge.svg\" alt=\"Open In Colab\"/></a>"
      ]
    },
    {
      "cell_type": "code",
      "execution_count": null,
      "metadata": {
        "id": "lzlko3C2TTLA"
      },
      "outputs": [],
      "source": [
        "Boolean Operations/Operators"
      ]
    },
    {
      "cell_type": "code",
      "source": [
        "print(10>9)\n",
        "print(10==9)\n",
        "print(10<9)"
      ],
      "metadata": {
        "colab": {
          "base_uri": "https://localhost:8080/"
        },
        "id": "Lz4T-AgrTZYc",
        "outputId": "86caac55-7197-4aea-ac78-acef1e44ba07"
      },
      "execution_count": 1,
      "outputs": [
        {
          "output_type": "stream",
          "name": "stdout",
          "text": [
            "True\n",
            "False\n",
            "False\n"
          ]
        }
      ]
    },
    {
      "cell_type": "markdown",
      "source": [
        "Bool() Function\n"
      ],
      "metadata": {
        "id": "bHexnsSSToZY"
      }
    },
    {
      "cell_type": "code",
      "source": [
        "print(bool(\"Hello\"))\n",
        "print(bool(1))\n",
        "print(bool(0))\n",
        "print(bool(None))\n",
        "print(bool(True))\n",
        "print(bool(False))\n",
        "\n",
        "\n",
        "\n"
      ],
      "metadata": {
        "colab": {
          "base_uri": "https://localhost:8080/"
        },
        "id": "wW8OBwAJTn9D",
        "outputId": "1d963398-fd58-4bba-8cd9-33c182115090"
      },
      "execution_count": 3,
      "outputs": [
        {
          "output_type": "stream",
          "name": "stdout",
          "text": [
            "True\n",
            "True\n",
            "False\n",
            "False\n",
            "True\n",
            "False\n"
          ]
        }
      ]
    },
    {
      "cell_type": "markdown",
      "source": [],
      "metadata": {
        "id": "GygNPZHaVZ1c"
      }
    },
    {
      "cell_type": "markdown",
      "source": [
        "Functions can Return a Boolean\n"
      ],
      "metadata": {
        "id": "YFNkLi_pUIms"
      }
    },
    {
      "cell_type": "code",
      "source": [
        "def Despi(): \n",
        "  return True\n",
        "print(Despi())\n",
        "\n",
        "if Despi():\n",
        "   print(\"Pogi si Despi\") \n",
        "else:\n",
        "  print(\"Pogi ka pa ren\")   \n"
      ],
      "metadata": {
        "colab": {
          "base_uri": "https://localhost:8080/"
        },
        "id": "zPWv2coJVg33",
        "outputId": "0e64d5dc-ed5c-49bb-f5f2-16824c1bdcb0"
      },
      "execution_count": 16,
      "outputs": [
        {
          "output_type": "stream",
          "name": "stdout",
          "text": [
            "True\n",
            "Pogi si Despi\n"
          ]
        }
      ]
    },
    {
      "cell_type": "markdown",
      "source": [
        "You TRY"
      ],
      "metadata": {
        "id": "P6EcIfAOWcvf"
      }
    },
    {
      "cell_type": "code",
      "source": [
        "print(10>9)\n",
        "a = 6\n",
        "b = 7\n",
        "print(a==b)\n",
        "print(a!=a)"
      ],
      "metadata": {
        "colab": {
          "base_uri": "https://localhost:8080/"
        },
        "id": "Vcj47aZRXrvZ",
        "outputId": "01b3e753-e4c2-4365-ca12-935b84a14599"
      },
      "execution_count": 18,
      "outputs": [
        {
          "output_type": "stream",
          "name": "stdout",
          "text": [
            "True\n",
            "False\n",
            "False\n"
          ]
        }
      ]
    },
    {
      "cell_type": "markdown",
      "source": [
        "Python Operators"
      ],
      "metadata": {
        "id": "q-ElyTpXX78r"
      }
    },
    {
      "cell_type": "code",
      "source": [
        "print(10+5)\n",
        "print(10-5)\n",
        "print(10*5)\n",
        "print(10/5)\n",
        "print(10%5)\n",
        "print(10//3)\n",
        "print(10**2)"
      ],
      "metadata": {
        "colab": {
          "base_uri": "https://localhost:8080/"
        },
        "id": "WhacnT7tZJNF",
        "outputId": "d0d61636-0e46-4c2d-c6c6-0a8399fc9203"
      },
      "execution_count": 19,
      "outputs": [
        {
          "output_type": "stream",
          "name": "stdout",
          "text": [
            "15\n",
            "5\n",
            "50\n",
            "2.0\n",
            "0\n",
            "2\n",
            "100000\n"
          ]
        }
      ]
    },
    {
      "cell_type": "markdown",
      "source": [
        "Python Bitwise"
      ],
      "metadata": {
        "id": "5MO0gWtkZhvs"
      }
    },
    {
      "cell_type": "code",
      "source": [
        "a = 60\n",
        "b = 13\n",
        "\n",
        "a>>1"
      ],
      "metadata": {
        "colab": {
          "base_uri": "https://localhost:8080/"
        },
        "id": "2azNKKyQZrs5",
        "outputId": "f5be39df-7f6b-4b68-a12e-dea6d3418e59"
      },
      "execution_count": 21,
      "outputs": [
        {
          "output_type": "execute_result",
          "data": {
            "text/plain": [
              "30"
            ]
          },
          "metadata": {},
          "execution_count": 21
        }
      ]
    },
    {
      "cell_type": "markdown",
      "source": [
        "Python Assigment Operators\n"
      ],
      "metadata": {
        "id": "lI2p10_whB5p"
      }
    },
    {
      "cell_type": "code",
      "source": [
        "x = 5\n",
        "x += 3 \n",
        "print(x)\n",
        "x -= 3 \n",
        "print(x)\n",
        "x *= 3\n",
        "print(x)\n",
        "x /= 3\n",
        "print(x)\n",
        "x %= 3\n",
        "print(x)\n",
        "\n"
      ],
      "metadata": {
        "colab": {
          "base_uri": "https://localhost:8080/"
        },
        "id": "8dpi39NnhFzB",
        "outputId": "d783d025-14c6-4671-a38b-3c28bca0e289"
      },
      "execution_count": 30,
      "outputs": [
        {
          "output_type": "stream",
          "name": "stdout",
          "text": [
            "8\n",
            "5\n",
            "15\n",
            "5.0\n",
            "2.0\n"
          ]
        }
      ]
    },
    {
      "cell_type": "markdown",
      "source": [
        "Logical Operators"
      ],
      "metadata": {
        "id": "V39aXIyajQee"
      }
    },
    {
      "cell_type": "code",
      "source": [
        "#and, or, xor, not\n",
        "a = True\n",
        "b = False\n",
        "\n",
        "print(not a)\n",
        "print(a and b)\n",
        "print(a or b)\n"
      ],
      "metadata": {
        "colab": {
          "base_uri": "https://localhost:8080/"
        },
        "id": "Z98eKW8MjSib",
        "outputId": "d752d8b0-4dee-4908-c721-248399abf1ee"
      },
      "execution_count": 31,
      "outputs": [
        {
          "output_type": "stream",
          "name": "stdout",
          "text": [
            "False\n",
            "False\n",
            "True\n"
          ]
        }
      ]
    },
    {
      "cell_type": "markdown",
      "source": [
        "Identity Operators"
      ],
      "metadata": {
        "id": "__GZHQJRkBTM"
      }
    }
  ]
}