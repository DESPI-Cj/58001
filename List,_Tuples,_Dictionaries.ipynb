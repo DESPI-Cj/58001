{
  "nbformat": 4,
  "nbformat_minor": 0,
  "metadata": {
    "colab": {
      "provenance": [],
      "authorship_tag": "ABX9TyMoO8MVbeYfESHNaxP1z56p",
      "include_colab_link": true
    },
    "kernelspec": {
      "name": "python3",
      "display_name": "Python 3"
    },
    "language_info": {
      "name": "python"
    }
  },
  "cells": [
    {
      "cell_type": "markdown",
      "metadata": {
        "id": "view-in-github",
        "colab_type": "text"
      },
      "source": [
        "<a href=\"https://colab.research.google.com/github/DESPI-Cj/OOP-58001/blob/main/List%2C_Tuples%2C_Dictionaries.ipynb\" target=\"_parent\"><img src=\"https://colab.research.google.com/assets/colab-badge.svg\" alt=\"Open In Colab\"/></a>"
      ]
    },
    {
      "cell_type": "markdown",
      "source": [],
      "metadata": {
        "id": "F1CFryVzQE4L"
      }
    },
    {
      "cell_type": "code",
      "execution_count": 7,
      "metadata": {
        "colab": {
          "base_uri": "https://localhost:8080/"
        },
        "id": "ss-XEWwkHhBZ",
        "outputId": "98224f06-4b63-4d49-9aef-135b0f60df8f"
      },
      "outputs": [
        {
          "output_type": "execute_result",
          "data": {
            "text/plain": [
              "50"
            ]
          },
          "metadata": {},
          "execution_count": 7
        }
      ],
      "source": [
        "class Shapes:\n",
        "  def __init__(self, length, width):\n",
        "    self.length=length\n",
        "    self.width=width\n",
        "  def area(self):\n",
        "    return self.length*self.width\n",
        "rectangle = Shapes(10,5)\n",
        "rectangle.area()\n"
      ]
    },
    {
      "cell_type": "markdown",
      "source": [
        "Function for NAME and AGE"
      ],
      "metadata": {
        "id": "KxX2AUwQQGBk"
      }
    },
    {
      "cell_type": "code",
      "source": [
        "class Profile():\n",
        "  def __init__(self, name, age):\n",
        "    self.name = name\n",
        "    self.age = age\n",
        "  def whoami(self):\n",
        "    print(\"My name is \", self.name)\n",
        "    print(\"I am\", self.age, \"of age\")\n",
        "n = Profile(\"Christian Jhomel A. Despi\",19)\n",
        "n.whoami()"
      ],
      "metadata": {
        "colab": {
          "base_uri": "https://localhost:8080/"
        },
        "id": "-f6OSfXgQ4cr",
        "outputId": "93739623-145b-4572-8b28-e391830b726e"
      },
      "execution_count": 24,
      "outputs": [
        {
          "output_type": "stream",
          "name": "stdout",
          "text": [
            "My name is  Christian Jhomel A. Despi\n",
            "I am 19 of age\n"
          ]
        }
      ]
    },
    {
      "cell_type": "code",
      "source": [
        "def Profile():\n",
        "  print(\"Name: Despi, Christian Jhomel A.\",\"\\n\",\"Age is 19\")\n",
        "\n",
        "Profile()"
      ],
      "metadata": {
        "colab": {
          "base_uri": "https://localhost:8080/"
        },
        "id": "Iw45Oxn6QGY0",
        "outputId": "e6f14bb3-eb94-4a5b-fc02-45805b94d1ba"
      },
      "execution_count": 16,
      "outputs": [
        {
          "output_type": "stream",
          "name": "stdout",
          "text": [
            "Name: Despi, Christian Jhomel A. \n",
            " Age is 19\n"
          ]
        }
      ]
    },
    {
      "cell_type": "code",
      "source": [
        "pi = 3.14150\n",
        "varlist = ['abc', 1, 'def', 2]\n",
        "print(varlist[0])\n",
        "\n",
        "varlist.append(\"gho\")\n",
        "print(varlist)\n",
        "varlist.remove(2)\n",
        "print(varlist)\n",
        "varlist.insert(3,3)\n",
        "print(varlist)"
      ],
      "metadata": {
        "colab": {
          "base_uri": "https://localhost:8080/"
        },
        "id": "h_TW7XWUUDBT",
        "outputId": "b3ae36ac-64e8-4803-991a-f6563854c8b3"
      },
      "execution_count": 39,
      "outputs": [
        {
          "output_type": "stream",
          "name": "stdout",
          "text": [
            "abc\n",
            "['abc', 1, 'def', 2, 'gho']\n",
            "['abc', 1, 'def', 'gho']\n",
            "['abc', 1, 'def', 3, 'gho']\n"
          ]
        }
      ]
    },
    {
      "cell_type": "markdown",
      "source": [
        "Dictionaries"
      ],
      "metadata": {
        "id": "HrLWkK1IXAqg"
      }
    },
    {
      "cell_type": "code",
      "source": [
        "students = {\n",
        "    1:\"anna\",\n",
        "    2:\"christian\",\n",
        "    3:\"jhomel\",\n",
        "    4:\"alcantara\",\n",
        "    5:\"despi\"\n",
        "\n",
        "}\n",
        "print(students[3])"
      ],
      "metadata": {
        "colab": {
          "base_uri": "https://localhost:8080/"
        },
        "id": "LAhWe78cXCEY",
        "outputId": "3a3a9678-dac2-4af9-b47a-70882657b40d"
      },
      "execution_count": 45,
      "outputs": [
        {
          "output_type": "stream",
          "name": "stdout",
          "text": [
            "jhomel\n"
          ]
        }
      ]
    },
    {
      "cell_type": "code",
      "source": [],
      "metadata": {
        "id": "gWdwV4ajXPbw"
      },
      "execution_count": null,
      "outputs": []
    }
  ]
}