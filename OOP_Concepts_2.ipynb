{
  "nbformat": 4,
  "nbformat_minor": 0,
  "metadata": {
    "colab": {
      "provenance": [],
      "authorship_tag": "ABX9TyPz8O2GGvPEZaxwxnMmizOv",
      "include_colab_link": true
    },
    "kernelspec": {
      "name": "python3",
      "display_name": "Python 3"
    },
    "language_info": {
      "name": "python"
    }
  },
  "cells": [
    {
      "cell_type": "markdown",
      "metadata": {
        "id": "view-in-github",
        "colab_type": "text"
      },
      "source": [
        "<a href=\"https://colab.research.google.com/github/DESPI-Cj/OOP-58001/blob/main/OOP_Concepts_2.ipynb\" target=\"_parent\"><img src=\"https://colab.research.google.com/assets/colab-badge.svg\" alt=\"Open In Colab\"/></a>"
      ]
    },
    {
      "cell_type": "code",
      "execution_count": 7,
      "metadata": {
        "colab": {
          "base_uri": "https://localhost:8080/"
        },
        "id": "ZbuYjdsiVTA-",
        "outputId": "5316519b-37fc-49d1-fd6e-a12c83d15dde"
      },
      "outputs": [
        {
          "output_type": "stream",
          "name": "stdout",
          "text": [
            "Griffon Vulture flies above the clouds\n",
            "Common Crane flies above the clouds\n",
            "Emu is the national bird of the Philippines\n"
          ]
        }
      ],
      "source": [
        "#Class with multiple objects\n",
        "class Birds:\n",
        "  def __init__(self, bird_name):\n",
        "    self.bird_name = bird_name\n",
        "  def flying_bird(self):\n",
        "    print(f\"{self.bird_name} flies above the clouds\")\n",
        "  def non_flying_birds(self):\n",
        "    print(f\"{self.bird_name} is the national bird of the Philippines\")\n",
        "\n",
        "\n",
        "vulture = Birds(\"Griffon Vulture\")\n",
        "crane = Birds(\"Common Crane\")\n",
        "emu = Birds(\"Emu\")\n",
        "\n",
        "vulture.flying_bird()\n",
        "crane.flying_bird()\n",
        "emu.non_flying_birds()\n"
      ]
    },
    {
      "cell_type": "code",
      "source": [
        "#encapsulating\n",
        "\n",
        "class foo:\n",
        "  def __init__(self, a,b):\n",
        "    self.__a = a\n",
        "    self.__b = b\n",
        "  def add(self):\n",
        "    return self.__a + self.__b\n",
        "\n",
        "foo_object = foo(3,4)\n",
        "foo_object.add()\n",
        "foo_object.a = 5\n",
        "foo_object.add()\n"
      ],
      "metadata": {
        "colab": {
          "base_uri": "https://localhost:8080/"
        },
        "id": "Ev9WFxxgZEa_",
        "outputId": "f89dade0-938c-454b-aa0c-e955d53ac66a"
      },
      "execution_count": 31,
      "outputs": [
        {
          "output_type": "execute_result",
          "data": {
            "text/plain": [
              "9"
            ]
          },
          "metadata": {},
          "execution_count": 31
        }
      ]
    },
    {
      "cell_type": "code",
      "source": [
        "class Counter:\n",
        "  def __init__(self):\n",
        "    self.current = 0\n",
        "  def increment(self):\n",
        "    self.current += 1\n",
        "  def value(self):\n",
        "    return self.current\n",
        "  def reset(self):\n",
        "    self.current = 0"
      ],
      "metadata": {
        "id": "kFY2_y2MZ8mr"
      },
      "execution_count": 35,
      "outputs": []
    },
    {
      "cell_type": "code",
      "source": [
        "#Inheritance\n",
        "\n",
        "class Person:\n",
        "  def __init__(self, name, birthdate):\n",
        "    self.name = name\n",
        "    self.birthdate = birthdate\n",
        "\n",
        "  def display(self):\n",
        "    print(f\"My name is {self.name}\")\n",
        "    print(f\"My birthday is {self.birthdate}\")\n",
        "\n",
        "class Student(Person):\n",
        "  pass\n",
        "class Teacher(Person):\n",
        "  pass\n",
        "\n",
        "tao = Student(\"Despi\", \"October 22, 2003\")\n",
        "tao.display()\n",
        "tao2 = Teacher(\"Lee ji-eun\", \"May 16, 1993\")\n",
        "tao2.display()"
      ],
      "metadata": {
        "colab": {
          "base_uri": "https://localhost:8080/"
        },
        "id": "ylCbnG0be2H_",
        "outputId": "b4684427-d244-47de-e9db-1e79c336940f"
      },
      "execution_count": 47,
      "outputs": [
        {
          "output_type": "stream",
          "name": "stdout",
          "text": [
            "My name is Despi\n",
            "My birthday is October 22, 2003\n",
            "My name is Lee ji-eun\n",
            "My birthday is May 16, 1993\n"
          ]
        }
      ]
    },
    {
      "cell_type": "code",
      "source": [
        "#Create a class name Shapes (5 shapes)\n",
        "# attributes sides, method create a function that displays number of sides of shape\n",
        "#apply inheritance and encapsulation\n",
        "\n",
        "class Shapes:\n",
        "  def __init__(self,name, sides):\n",
        "    self.__sides = sides\n",
        "    self.__name = name\n",
        "  \n",
        "  def display(self):\n",
        "    print(\"A\",self.__name,\"has\",self.__sides,\"sides\")\n",
        "\n",
        "class Triangle(Shapes):\n",
        "  pass\n",
        "class Square(Shapes):\n",
        "  pass\n",
        "class Pentagon(Shapes):\n",
        "  pass\n",
        "class Hexagon(Shapes):\n",
        "  pass\n",
        "class Heptagon(Shapes):\n",
        "  pass\n",
        "\n",
        "triangle = Triangle(\"triangle\",3)\n",
        "triangle.sides=69 #favorite number ni Guzman\n",
        "triangle.display()\n",
        "square = Square(\"square\",4)\n",
        "square.display()\n",
        "pentagon = Pentagon(\"pentagon\",5)\n",
        "pentagon.display()\n",
        "hexagon = Hexagon(\"hexagon\",6)\n",
        "hexagon.display()\n",
        "heptagon = Heptagon(\"heptagon\",7)\n",
        "heptagon.display()\n",
        "\n",
        "triangle.sides = 3\n",
        "triangle.display() #<--- Attempt to change values! but since it "
      ],
      "metadata": {
        "colab": {
          "base_uri": "https://localhost:8080/"
        },
        "id": "PvnbvMwogrkw",
        "outputId": "6a3f5008-f9d6-4ca6-dc49-544d2e6d186c"
      },
      "execution_count": 59,
      "outputs": [
        {
          "output_type": "stream",
          "name": "stdout",
          "text": [
            "A triangle has 3 sides\n",
            "A square has 4 sides\n",
            "A pentagon has 5 sides\n",
            "A hexagon has 6 sides\n",
            "A heptagon has 7 sides\n",
            "A triangle has 3 sides\n"
          ]
        }
      ]
    }
  ]
}