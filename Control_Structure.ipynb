{
  "nbformat": 4,
  "nbformat_minor": 0,
  "metadata": {
    "colab": {
      "provenance": [],
      "authorship_tag": "ABX9TyPGC74VoOjDRynYr0rXvk7e",
      "include_colab_link": true
    },
    "kernelspec": {
      "name": "python3",
      "display_name": "Python 3"
    },
    "language_info": {
      "name": "python"
    }
  },
  "cells": [
    {
      "cell_type": "markdown",
      "metadata": {
        "id": "view-in-github",
        "colab_type": "text"
      },
      "source": [
        "<a href=\"https://colab.research.google.com/github/DESPI-Cj/OOP-58001/blob/main/Control_Structure.ipynb\" target=\"_parent\"><img src=\"https://colab.research.google.com/assets/colab-badge.svg\" alt=\"Open In Colab\"/></a>"
      ]
    },
    {
      "cell_type": "markdown",
      "source": [
        "If Statement"
      ],
      "metadata": {
        "id": "AZli0Ao2FjMB"
      }
    },
    {
      "cell_type": "code",
      "execution_count": 19,
      "metadata": {
        "colab": {
          "base_uri": "https://localhost:8080/"
        },
        "id": "xnN7JBUnDtyJ",
        "outputId": "30304216-2bfe-4ac6-8643-62337fbfc749"
      },
      "outputs": [
        {
          "output_type": "stream",
          "name": "stdout",
          "text": [
            "5 is greater than 4\n"
          ]
        }
      ],
      "source": [
        "if 5>4:\n",
        "   print(\"5 is greater than 4\")\n",
        "\n"
      ]
    },
    {
      "cell_type": "code",
      "source": [
        "x = input(int())\n",
        "y = input(int())\n",
        "\n",
        "if x>y:\n",
        "  print(x+\" is greater than \"+y)\n",
        "elif y>x:\n",
        "  print(y+\" is greater than \"+x)\n",
        "else:\n",
        "  print(\"they are equal\")"
      ],
      "metadata": {
        "colab": {
          "base_uri": "https://localhost:8080/"
        },
        "id": "xCnC5oGTGbL4",
        "outputId": "d3d7f119-fc0a-4cba-9fcf-a9fe25db5a6e"
      },
      "execution_count": 27,
      "outputs": [
        {
          "output_type": "stream",
          "name": "stdout",
          "text": [
            "010\n",
            "05\n",
            "5 is greater than 10\n"
          ]
        }
      ]
    },
    {
      "cell_type": "code",
      "source": [
        "#elif statement\n",
        "a = 100\n",
        "b = 50\n",
        "if a > b:\n",
        "  print(\"a is greater than b\")\n",
        "elif a < b:\n",
        "  print(\"b is greater than a\")\n",
        "else:\n",
        "  print(\"They are equal\")\n"
      ],
      "metadata": {
        "colab": {
          "base_uri": "https://localhost:8080/"
        },
        "id": "k00pqGYBHnaG",
        "outputId": "4a013df3-6686-40fb-b988-2f684dc3dfdc"
      },
      "execution_count": 30,
      "outputs": [
        {
          "output_type": "stream",
          "name": "stdout",
          "text": [
            "a is greater than b\n"
          ]
        }
      ]
    },
    {
      "cell_type": "code",
      "source": [
        "#Nested If\n",
        "x = 41\n",
        "if x > 10:\n",
        "  print(\"Above ten,\")\n",
        "  if x>20:\n",
        "    print(\"and also above 20!\")\n",
        "    if x>30:\n",
        "      print(\"and also above 30!\")\n",
        "  else:\n",
        "    print(\"print but not above 20\")\n"
      ],
      "metadata": {
        "colab": {
          "base_uri": "https://localhost:8080/",
          "height": 252
        },
        "id": "Y7kc9H4qIeaw",
        "outputId": "5314fb79-b8f9-4e51-8c3b-3d6912911718"
      },
      "execution_count": 35,
      "outputs": [
        {
          "name": "stdout",
          "output_type": "stream",
          "text": [
            "019\n"
          ]
        },
        {
          "output_type": "error",
          "ename": "TypeError",
          "evalue": "ignored",
          "traceback": [
            "\u001b[0;31m---------------------------------------------------------------------------\u001b[0m",
            "\u001b[0;31mTypeError\u001b[0m                                 Traceback (most recent call last)",
            "\u001b[0;32m<ipython-input-35-3f99a636a442>\u001b[0m in \u001b[0;36m<module>\u001b[0;34m\u001b[0m\n\u001b[1;32m      1\u001b[0m \u001b[0;31m#Nested If\u001b[0m\u001b[0;34m\u001b[0m\u001b[0;34m\u001b[0m\u001b[0;34m\u001b[0m\u001b[0m\n\u001b[1;32m      2\u001b[0m \u001b[0minput_a\u001b[0m \u001b[0;34m=\u001b[0m \u001b[0minput\u001b[0m\u001b[0;34m(\u001b[0m\u001b[0mint\u001b[0m\u001b[0;34m(\u001b[0m\u001b[0;34m)\u001b[0m\u001b[0;34m)\u001b[0m\u001b[0;34m\u001b[0m\u001b[0;34m\u001b[0m\u001b[0m\n\u001b[0;32m----> 3\u001b[0;31m \u001b[0;32mif\u001b[0m \u001b[0mx\u001b[0m \u001b[0;34m>\u001b[0m \u001b[0;36m10\u001b[0m\u001b[0;34m:\u001b[0m\u001b[0;34m\u001b[0m\u001b[0;34m\u001b[0m\u001b[0m\n\u001b[0m\u001b[1;32m      4\u001b[0m   \u001b[0mprint\u001b[0m\u001b[0;34m(\u001b[0m\u001b[0;34m\"Above ten,\"\u001b[0m\u001b[0;34m)\u001b[0m\u001b[0;34m\u001b[0m\u001b[0;34m\u001b[0m\u001b[0m\n\u001b[1;32m      5\u001b[0m   \u001b[0;32mif\u001b[0m \u001b[0mx\u001b[0m\u001b[0;34m>\u001b[0m\u001b[0;36m20\u001b[0m\u001b[0;34m:\u001b[0m\u001b[0;34m\u001b[0m\u001b[0;34m\u001b[0m\u001b[0m\n",
            "\u001b[0;31mTypeError\u001b[0m: '>' not supported between instances of 'str' and 'int'"
          ]
        }
      ]
    },
    {
      "cell_type": "code",
      "source": [
        "x = 49\n",
        "\n",
        "if x > 10:\n",
        "  print(\"Above ten,\")\n",
        "  if x > 20:\n",
        "    print(\"and also above 20!\")\n",
        "    if x >30:\n",
        "      print(\"and also above 30!\")\n",
        "      if x >40:\n",
        "          print(\"and also above 40\")\n",
        "          if x <50:\n",
        "            print(\"below 50\")\n",
        "          else:\n",
        "            print(\"above 50\")\n",
        "      else:\n",
        "          print(\"below 40\")\n",
        "    else:\n",
        "      print(\"below 30\")\n",
        "  else: \n",
        "    print(\"but not above 20\")"
      ],
      "metadata": {
        "colab": {
          "base_uri": "https://localhost:8080/"
        },
        "id": "FSiFjtLaLii8",
        "outputId": "e9df6a1e-d1de-4d03-a59b-9a23e48eac0e"
      },
      "execution_count": 36,
      "outputs": [
        {
          "output_type": "stream",
          "name": "stdout",
          "text": [
            "Above ten,\n",
            "and also above 20!\n",
            "and also above 30!\n",
            "and also above 40\n",
            "below 50\n"
          ]
        }
      ]
    },
    {
      "cell_type": "markdown",
      "source": [
        "Example 1"
      ],
      "metadata": {
        "id": "53xLIRo3NwYw"
      }
    },
    {
      "cell_type": "code",
      "source": [
        "#Qualifying Voter\n",
        "age = int(input(\"Enter age: \"))\n",
        "if age>=18:\n",
        "  print(\"You are qualified to vote!\")\n",
        "else:\n",
        "  print(\"You are underage!\")\n"
      ],
      "metadata": {
        "colab": {
          "base_uri": "https://localhost:8080/"
        },
        "id": "fXXyrevnL2BT",
        "outputId": "4665331f-cab3-4052-eede-8fe523a1d6e7"
      },
      "execution_count": 39,
      "outputs": [
        {
          "output_type": "stream",
          "name": "stdout",
          "text": [
            "Enter age: 10\n",
            "You are underage!\n"
          ]
        }
      ]
    },
    {
      "cell_type": "markdown",
      "source": [
        "Example 2"
      ],
      "metadata": {
        "id": "eFlMpNMONy1g"
      }
    },
    {
      "cell_type": "code",
      "source": [
        "#Check if input is positive, negative, or zero\n",
        "number = int(input(\"Enter number: \"w))\n",
        "if number > 0:\n",
        "  print(\"Number is positive!\")\n",
        "elif number < 0:\n",
        "  print(\"Number is negative!\")\n",
        "else:\n",
        "  print(\"The number is 0!\")"
      ],
      "metadata": {
        "colab": {
          "base_uri": "https://localhost:8080/"
        },
        "id": "ySLjNhqWN6r4",
        "outputId": "3a485fbb-aece-40c9-f4c5-4c2970aeb8bc"
      },
      "execution_count": 43,
      "outputs": [
        {
          "output_type": "stream",
          "name": "stdout",
          "text": [
            "Enter number: -12\n",
            "Number is negative!\n"
          ]
        }
      ]
    },
    {
      "cell_type": "markdown",
      "source": [
        "Example 3"
      ],
      "metadata": {
        "id": "-Kn_YP8dPVo5"
      }
    },
    {
      "cell_type": "code",
      "source": [
        "#Check if grade is passed, for remedial, or failed. No negative values!\n",
        "grade = int(input(\"Enter Grade: \"))\n",
        "if grade < 0:\n",
        "   print(\"No negative values!\")\n",
        "else:\n",
        "   if grade >= 70:\n",
        "     print(\"Passed!\")\n",
        "   elif grade >= 65 and grade <=69:\n",
        "     print(\"Remedial!\")\n",
        "   else:\n",
        "     print(\"Failed!\")    "
      ],
      "metadata": {
        "colab": {
          "base_uri": "https://localhost:8080/"
        },
        "id": "vWFGsf5ePnz8",
        "outputId": "eeca5188-5b09-48ee-f5a2-5a31f13b4526"
      },
      "execution_count": 49,
      "outputs": [
        {
          "output_type": "stream",
          "name": "stdout",
          "text": [
            "Enter Grade: -19\n",
            "No negative values!\n"
          ]
        }
      ]
    }
  ]
}