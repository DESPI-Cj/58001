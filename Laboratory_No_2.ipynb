{
  "nbformat": 4,
  "nbformat_minor": 0,
  "metadata": {
    "colab": {
      "provenance": [],
      "authorship_tag": "ABX9TyPXuR44fDgVx0BNB5PaUEqK",
      "include_colab_link": true
    },
    "kernelspec": {
      "name": "python3",
      "display_name": "Python 3"
    },
    "language_info": {
      "name": "python"
    }
  },
  "cells": [
    {
      "cell_type": "markdown",
      "metadata": {
        "id": "view-in-github",
        "colab_type": "text"
      },
      "source": [
        "<a href=\"https://colab.research.google.com/github/DESPI-Cj/OOP-58001/blob/main/Laboratory_No_2.ipynb\" target=\"_parent\"><img src=\"https://colab.research.google.com/assets/colab-badge.svg\" alt=\"Open In Colab\"/></a>"
      ]
    },
    {
      "cell_type": "markdown",
      "source": [
        "General Instructions:\n",
        "\n",
        "Write a Python program that asks the user to enter the radius of a circle and solve its area and perimeter.\n",
        "\n",
        "\n",
        "Create a class name Circle allowing you to build a circle with radius and pi \n",
        "attributes.\n",
        "\n",
        "Create a method Display() the perimeter and area using an instantiation of a class.\n",
        "\n",
        "Create a Perimeter() method to calculate the perimeter of the circle and an Area() method to calculate the area of ​​the circle.\n",
        "\n",
        "\n",
        "\n",
        "Note: Save the program to your GitHub repository and name it as Lab Activity 2\n",
        "\n",
        "**Copy the link of your python program \"Lab Activity 2\" here"
      ],
      "metadata": {
        "id": "QYF1ZkkYYEXC"
      }
    },
    {
      "cell_type": "code",
      "execution_count": 22,
      "metadata": {
        "colab": {
          "base_uri": "https://localhost:8080/"
        },
        "id": "279_6DuMXyu5",
        "outputId": "15791d99-c476-4850-e544-a4631677935a"
      },
      "outputs": [
        {
          "output_type": "stream",
          "name": "stdout",
          "text": [
            "Circle Calculator\n",
            "Input radius: 3\n",
            "Area is 28.27\n",
            "Perimeter is  18.85\n"
          ]
        }
      ],
      "source": [
        "#Find Area and Perimeter of the Circle with inputted radius\n",
        "\n",
        "print(\"Circle Calculator\")\n",
        "\n",
        "r = int(input(\"Input radius: \"))\n",
        "pi = 3.14159\n",
        "A = pi*r**2\n",
        "P = 2*pi*r\n",
        "\n",
        "print(\"Area is\",round(A, 2))\n",
        "print(\"Perimeter is \",round(P, 2))"
      ]
    },
    {
      "cell_type": "code",
      "source": [
        "#Create a class name Circle allowing you to build a circle with radius and pi attributes.\n",
        "\n",
        "class Circle:\n",
        "  def __init__(self, radius):\n",
        "    self.radius = r\n",
        "    self.pi = 3.14159\n",
        "\n"
      ],
      "metadata": {
        "id": "ljU8KXTKg-LD"
      },
      "execution_count": 36,
      "outputs": []
    },
    {
      "cell_type": "code",
      "source": [
        "\n",
        " #Create a method Display() the perimeter and area using an instantiation of aclass\n",
        "\n",
        "class Circle:\n",
        "  def __init__(self, radius):\n",
        "    self.radius = radius\n",
        "    self.pi = pi = 3.15159\n",
        "\n",
        "  def Display(self):\n",
        "    print(\"The area of the circle is\", self.radius**2*pi)\n",
        "    print(\"The perimeter of the circle is\", self.radius*2*pi)\n",
        "\n",
        "circle = Circle(3)\n",
        "circle.Display()"
      ],
      "metadata": {
        "colab": {
          "base_uri": "https://localhost:8080/"
        },
        "id": "ysttDIM3ksfE",
        "outputId": "e6df210d-420b-4010-cb5f-ef64f6b43c29"
      },
      "execution_count": 51,
      "outputs": [
        {
          "output_type": "stream",
          "name": "stdout",
          "text": [
            "The area of the circle is 28.27431\n",
            "The perimeter of the circle is 18.849539999999998\n"
          ]
        }
      ]
    },
    {
      "cell_type": "code",
      "source": [
        "#Create a Perimeter() method to calculate the perimeter of the circle and anArea() method to calculate the area of the circle.\n",
        "\n",
        "class Circle:\n",
        "  def __init__(self, radius):\n",
        "    self.radius = radius\n",
        "\n",
        "  def Perimeter(self):\n",
        "    return self.radius*2*3.14159\n",
        "  \n",
        "  def Area(self):\n",
        "    return self.radius**2*3.14159\n",
        "  \n",
        "circle = Circle(8)\n",
        "print(\"The perimeter of the circle is\",circle.Perimeter())\n",
        "print(\"The area of the circle is\", circle.Area())\n",
        "\n"
      ],
      "metadata": {
        "colab": {
          "base_uri": "https://localhost:8080/"
        },
        "id": "5ID7Qhucoba9",
        "outputId": "4bc59a17-6165-4cf7-9f02-3d538134be86"
      },
      "execution_count": 56,
      "outputs": [
        {
          "output_type": "stream",
          "name": "stdout",
          "text": [
            "The perimeter of the circle is 50.26544\n",
            "The area of the circle is 201.06176\n"
          ]
        }
      ]
    }
  ]
}